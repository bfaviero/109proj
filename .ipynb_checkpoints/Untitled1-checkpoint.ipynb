{
 "metadata": {
  "name": "",
  "signature": "sha256:b186427e9b056bcb0dd6221652a5a719f2607a27a4693ba72ea819e2de9fe96e"
 },
 "nbformat": 3,
 "nbformat_minor": 0,
 "worksheets": []
}