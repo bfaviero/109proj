{
 "metadata": {
  "name": "",
  "signature": "sha256:34b124e8dd29831b090cc6b916d8a23abee9047a2571673fe22a778dea0d3568"
 },
 "nbformat": 3,
 "nbformat_minor": 0,
 "worksheets": [
  {
   "cells": [
    {
     "cell_type": "code",
     "collapsed": false,
     "input": [
      "from __future__ import division\n",
      "import collections\n",
      "import urllib\n",
      "import csv\n",
      "from bson.code import Code\n",
      "import re\n",
      "import pymongo\n",
      "import datetime\n",
      "import sys\n",
      "from bson.son import SON\n",
      "from pymongo import MongoClient\n",
      "# client = MongoClient()\n",
      "# client = MongoClient('localhost', 27017)\n",
      "# client.database_names()\n",
      "import matplotlib.pyplot as plt\n",
      "import pandas as pd\n",
      "from pandas import Series\n",
      "import numpy as np\n",
      "import random"
     ],
     "language": "python",
     "metadata": {},
     "outputs": []
    }
   ],
   "metadata": {}
  }
 ]
}