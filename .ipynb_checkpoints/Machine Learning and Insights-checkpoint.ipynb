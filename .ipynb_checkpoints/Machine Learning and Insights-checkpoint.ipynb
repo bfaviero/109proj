{
 "metadata": {
  "name": "",
  "signature": "sha256:7845c3a927e76bf768a9b0b4a9627a75b9251ea3b5891e90db018e958287567f"
 },
 "nbformat": 3,
 "nbformat_minor": 0,
 "worksheets": [
  {
   "cells": [
    {
     "cell_type": "code",
     "collapsed": false,
     "input": [],
     "language": "python",
     "metadata": {},
     "outputs": []
    }
   ],
   "metadata": {}
  }
 ]
}