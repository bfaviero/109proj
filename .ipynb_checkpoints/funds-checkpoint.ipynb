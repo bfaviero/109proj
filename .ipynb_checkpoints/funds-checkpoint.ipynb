{
 "metadata": {
  "name": "",
  "signature": "sha256:08eddb6eac484495afe1fbd0636be94b501fdb7b28bc88d8195f6fb0d69e46aa"
 },
 "nbformat": 3,
 "nbformat_minor": 0,
 "worksheets": [
  {
   "cells": [
    {
     "cell_type": "code",
     "collapsed": false,
     "input": [
      "%matplotlib inline \n",
      "\n",
      "import requests \n",
      "import StringIO\n",
      "import zipfile\n",
      "import numpy as np\n",
      "import pandas as pd # pandas\n",
      "import matplotlib.pyplot as plt # module for plotting \n",
      "from dateutil.parser import parse"
     ],
     "language": "python",
     "metadata": {},
     "outputs": [],
     "prompt_number": 19
    },
    {
     "cell_type": "code",
     "collapsed": false,
     "input": [
      "funds = []\n",
      "for i in range(1, 9):\n",
      "    fund = pd.read_csv('data/funds/fund'+str(i)+'.csv')\n",
      "    fund['date'] = fund.apply(lambda r: parse(r.values[3]).date(), axis=1)\n",
      "    funds.append(fund)\n"
     ],
     "language": "python",
     "metadata": {},
     "outputs": [],
     "prompt_number": 58
    }
   ],
   "metadata": {}
  }
 ]
}