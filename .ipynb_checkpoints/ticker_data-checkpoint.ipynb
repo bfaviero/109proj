{
 "metadata": {
  "name": "",
  "signature": "sha256:28d53fbda068b7a3a3baf0f715bdb3b6d34ef039337a4e2e7b92bf94bc6e6dc3"
 },
 "nbformat": 3,
 "nbformat_minor": 0,
 "worksheets": [
  {
   "cells": [
    {
     "cell_type": "code",
     "collapsed": false,
     "input": [
      "from sqlalchemy import distinct"
     ],
     "language": "python",
     "metadata": {},
     "outputs": [],
     "prompt_number": 3
    },
    {
     "cell_type": "code",
     "collapsed": false,
     "input": [
      "from __future__ import division\n",
      "import itertools\n",
      "import numpy as np\n",
      "import pandas as pd # pandas\n",
      "import datetime\n",
      "from pyq_api import get_ticker_info\n",
      "import os\n",
      "from sqlalchemy import Column, ForeignKey, String, Date, Float, Integer\n",
      "from sqlalchemy.ext.declarative import declarative_base\n",
      "from sqlalchemy.orm import relationship\n",
      "from sqlalchemy import create_engine\n",
      "from process_data import get_funds\n",
      "from utils import get_quarters\n",
      "from sqlalchemy.orm import sessionmaker\n",
      "from sqlalchemy import UniqueConstraint\n",
      "\n",
      "def establish_session():\n",
      "    engine = create_engine('sqlite:///price_db3.db')\n",
      "    Base.metadata.bind = engine\n",
      "\n",
      "    DBSession = sessionmaker(bind=engine)\n",
      "    session = DBSession()\n",
      "\n",
      "    return session\n",
      "\n",
      "Base = declarative_base()\n",
      "\n",
      "class Ticker(Base):\n",
      "    __tablename__ = 'ticker'\n",
      "    id = Column(Integer, primary_key=True)\n",
      "    name = Column(String(10), index=True)\n",
      "    date = Column(Date, index=True, nullable=False)\n",
      "    price = Column(Float, nullable=False)\n",
      "    __table_args__ = (UniqueConstraint('name', 'date', name='_ticker_date'),)\n",
      "\n",
      "session = establish_session()\n",
      "set1 = set([e[0] for e in session.query(distinct(Ticker.name)).all()])\n",
      "len(set1)"
     ],
     "language": "python",
     "metadata": {},
     "outputs": [
      {
       "ename": "NameError",
       "evalue": "name 'session' is not defined",
       "output_type": "pyerr",
       "traceback": [
        "\u001b[0;31m---------------------------------------------------------------------------\u001b[0m\n\u001b[0;31mNameError\u001b[0m                                 Traceback (most recent call last)",
        "\u001b[0;32m<ipython-input-4-e6fbf5862fb1>\u001b[0m in \u001b[0;36m<module>\u001b[0;34m()\u001b[0m\n\u001b[1;32m     34\u001b[0m     \u001b[0m__table_args__\u001b[0m \u001b[0;34m=\u001b[0m \u001b[0;34m(\u001b[0m\u001b[0mUniqueConstraint\u001b[0m\u001b[0;34m(\u001b[0m\u001b[0;34m'name'\u001b[0m\u001b[0;34m,\u001b[0m \u001b[0;34m'date'\u001b[0m\u001b[0;34m,\u001b[0m \u001b[0mname\u001b[0m\u001b[0;34m=\u001b[0m\u001b[0;34m'_ticker_date'\u001b[0m\u001b[0;34m)\u001b[0m\u001b[0;34m,\u001b[0m\u001b[0;34m)\u001b[0m\u001b[0;34m\u001b[0m\u001b[0m\n\u001b[1;32m     35\u001b[0m \u001b[0;34m\u001b[0m\u001b[0m\n\u001b[0;32m---> 36\u001b[0;31m \u001b[0mset1\u001b[0m \u001b[0;34m=\u001b[0m \u001b[0mset\u001b[0m\u001b[0;34m(\u001b[0m\u001b[0;34m[\u001b[0m\u001b[0me\u001b[0m\u001b[0;34m[\u001b[0m\u001b[0;36m0\u001b[0m\u001b[0;34m]\u001b[0m \u001b[0;32mfor\u001b[0m \u001b[0me\u001b[0m \u001b[0;32min\u001b[0m \u001b[0msession\u001b[0m\u001b[0;34m.\u001b[0m\u001b[0mquery\u001b[0m\u001b[0;34m(\u001b[0m\u001b[0mdistinct\u001b[0m\u001b[0;34m(\u001b[0m\u001b[0mTicker\u001b[0m\u001b[0;34m.\u001b[0m\u001b[0mname\u001b[0m\u001b[0;34m)\u001b[0m\u001b[0;34m)\u001b[0m\u001b[0;34m.\u001b[0m\u001b[0mall\u001b[0m\u001b[0;34m(\u001b[0m\u001b[0;34m)\u001b[0m\u001b[0;34m]\u001b[0m\u001b[0;34m)\u001b[0m\u001b[0;34m\u001b[0m\u001b[0m\n\u001b[0m\u001b[1;32m     37\u001b[0m \u001b[0mlen\u001b[0m\u001b[0;34m(\u001b[0m\u001b[0mset1\u001b[0m\u001b[0;34m)\u001b[0m\u001b[0;34m\u001b[0m\u001b[0m\n",
        "\u001b[0;31mNameError\u001b[0m: name 'session' is not defined"
       ]
      }
     ],
     "prompt_number": 4
    },
    {
     "cell_type": "code",
     "collapsed": false,
     "input": [
      "def get_tickerdb_data(ticker):\n",
      "    session = establish_session()\n",
      "    data = [(e.date, e.price) for e in session.query(Ticker).filter(Ticker.name==ticker).all()]\n",
      "    data[0]\n",
      "    df = pd.DataFrame(data=data, columns=['date', 'price']).set_index('date')\n",
      "    return df"
     ],
     "language": "python",
     "metadata": {},
     "outputs": [],
     "prompt_number": 60
    },
    {
     "cell_type": "code",
     "collapsed": false,
     "input": [
      "for ticker in set1:\n",
      "    get_tickerdb_data(ticker)"
     ],
     "language": "python",
     "metadata": {},
     "outputs": [],
     "prompt_number": 61
    }
   ],
   "metadata": {}
  }
 ]
}