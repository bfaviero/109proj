{
 "metadata": {
  "name": "",
  "signature": "sha256:3e0eae0b2d60d4dc4e973a96c2d816e63b2586056fe57c0a86f2765051124783"
 },
 "nbformat": 3,
 "nbformat_minor": 0,
 "worksheets": [
  {
   "cells": [
    {
     "cell_type": "code",
     "collapsed": false,
     "input": [
      "%matplotlib inline\n",
      "import matplotlib.pyplot as plt\n",
      "from __future__ import division\n",
      "import itertools\n",
      "import numpy as np\n",
      "import pandas as pd # pandas\n",
      "import datetime\n",
      "from pyq_api import get_ticker_info\n",
      "import os\n",
      "from sqlalchemy import Column, ForeignKey, String, Date, Float, Integer\n",
      "from sqlalchemy.ext.declarative import declarative_base\n",
      "from sqlalchemy.orm import relationship\n",
      "from sqlalchemy import create_engine\n",
      "from process_data import get_funds\n",
      "from utils import get_quarters\n",
      "from sqlalchemy.orm import sessionmaker\n",
      "from sqlalchemy import UniqueConstraint\n",
      "from numpy import nan"
     ],
     "language": "python",
     "metadata": {},
     "outputs": [],
     "prompt_number": 1
    },
    {
     "cell_type": "code",
     "collapsed": false,
     "input": [
      "quarters_df = get_quarters()\n",
      "def merge_with_quarters(df):\n",
      "    return df.merge(quarters_df, left_on='date', right_index=True)\n",
      "\n",
      "funds = get_funds()[:7]\n",
      "soros = get_funds()[7]\n",
      "funds = [merge_with_quarters(fund) for fund in funds]\n",
      "soros = merge_with_quarters(soros)"
     ],
     "language": "python",
     "metadata": {},
     "outputs": [],
     "prompt_number": 2
    },
    {
     "cell_type": "code",
     "collapsed": false,
     "input": [
      "ticker_sector_map = dict()\n",
      "for fund in funds:\n",
      "    for ticker, sector in fund[['ticker', 'sector']].values:\n",
      "        if ticker not in ticker_sector_map:\n",
      "            ticker_sector_map[ticker] = set([sector])\n",
      "        else:\n",
      "            ticker_sector_map[ticker].add(sector)"
     ],
     "language": "python",
     "metadata": {},
     "outputs": [],
     "prompt_number": 3
    },
    {
     "cell_type": "code",
     "collapsed": false,
     "input": [
      "def get_sector(row):\n",
      "    ticker = row['ticker']\n",
      "    if ticker in ticker_sector_map:\n",
      "        s = ticker_sector_map[ticker]\n",
      "        return s.pop() if s else 'None'\n",
      "    return 'None'"
     ],
     "language": "python",
     "metadata": {},
     "outputs": [],
     "prompt_number": 4
    },
    {
     "cell_type": "code",
     "collapsed": false,
     "input": [
      "soros['sector'] = soros.apply(lambda x: get_sector(x), axis=1)"
     ],
     "language": "python",
     "metadata": {},
     "outputs": [],
     "prompt_number": 5
    },
    {
     "cell_type": "code",
     "collapsed": false,
     "input": [
      "allfunds = funds + [soros]\n",
      "merged = pd.concat(allfunds)\n",
      "merged = merged.fillna(-1)\n",
      "merged.sector = merged.sector.replace(' ', 'None')\n",
      "merged.sector = merged.sector.replace(-1, 'None')\n",
      "merged = merged.loc[merged.sector != 'None']"
     ],
     "language": "python",
     "metadata": {},
     "outputs": [],
     "prompt_number": 6
    },
    {
     "cell_type": "code",
     "collapsed": false,
     "input": [
      "sectors = merged.sector.unique()\n",
      "filers = merged.filer.unique()\n",
      "tickers = merged.ticker.unique()"
     ],
     "language": "python",
     "metadata": {},
     "outputs": [],
     "prompt_number": 7
    }
   ],
   "metadata": {}
  }
 ]
}