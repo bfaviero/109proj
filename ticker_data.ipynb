{
 "metadata": {
  "name": "",
  "signature": "sha256:eedeed3dceb0b2405749e205966680194cdda042bb9754d052e5a287b8afc494"
 },
 "nbformat": 3,
 "nbformat_minor": 0,
 "worksheets": [
  {
   "cells": [
    {
     "cell_type": "code",
     "collapsed": false,
     "input": [
      "from sqlalchemy import distinct"
     ],
     "language": "python",
     "metadata": {},
     "outputs": [],
     "prompt_number": 3
    },
    {
     "cell_type": "code",
     "collapsed": false,
     "input": [
      "from __future__ import division\n",
      "import itertools\n",
      "import numpy as np\n",
      "import pandas as pd # pandas\n",
      "import datetime\n",
      "from pyq_api import get_ticker_info\n",
      "import os\n",
      "from sqlalchemy import Column, ForeignKey, String, Date, Float, Integer\n",
      "from sqlalchemy.ext.declarative import declarative_base\n",
      "from sqlalchemy.orm import relationship\n",
      "from sqlalchemy import create_engine\n",
      "from process_data import get_funds\n",
      "from utils import get_quarters\n",
      "from sqlalchemy.orm import sessionmaker\n",
      "from sqlalchemy import UniqueConstraint\n",
      "\n",
      "def establish_session():\n",
      "    engine = create_engine('sqlite:///price_db3.db')\n",
      "    Base.metadata.bind = engine\n",
      "\n",
      "    DBSession = sessionmaker(bind=engine)\n",
      "    session = DBSession()\n",
      "\n",
      "    return session\n",
      "\n",
      "Base = declarative_base()\n",
      "\n",
      "class Ticker(Base):\n",
      "    __tablename__ = 'ticker'\n",
      "    id = Column(Integer, primary_key=True)\n",
      "    name = Column(String(10), index=True)\n",
      "    date = Column(Date, index=True, nullable=False)\n",
      "    price = Column(Float, nullable=False)\n",
      "    __table_args__ = (UniqueConstraint('name', 'date', name='_ticker_date'),)\n",
      "\n",
      "set1 = set([e[0] for e in session.query(distinct(Ticker.name)).all()])\n",
      "len(set1)"
     ],
     "language": "python",
     "metadata": {},
     "outputs": [
      {
       "metadata": {},
       "output_type": "pyout",
       "prompt_number": 59,
       "text": [
        "3898"
       ]
      }
     ],
     "prompt_number": 59
    },
    {
     "cell_type": "code",
     "collapsed": false,
     "input": [
      "def get_tickerdb_data(ticker):\n",
      "    session = establish_session()\n",
      "    data = [(e.date, e.price) for e in session.query(Ticker).filter(Ticker.name==ticker).all()]\n",
      "    data[0]\n",
      "    df = pd.DataFrame(data=data, columns=['date', 'price']).set_index('date')\n",
      "    return df"
     ],
     "language": "python",
     "metadata": {},
     "outputs": [],
     "prompt_number": 60
    },
    {
     "cell_type": "code",
     "collapsed": false,
     "input": [
      "for ticker in set1:\n",
      "    get_tickerdb_data(ticker)"
     ],
     "language": "python",
     "metadata": {},
     "outputs": [],
     "prompt_number": 61
    }
   ],
   "metadata": {}
  }
 ]
}